{
 "cells": [
  {
   "cell_type": "markdown",
   "id": "99c8e4c6",
   "metadata": {},
   "source": [
    "## Alerte à la poste "
   ]
  },
  {
   "cell_type": "markdown",
   "id": "6a9ba6e0",
   "metadata": {},
   "source": [
    "#### 1. Parcourez le fichier pour trouver la liste de tous les utilisateurs qui se sont connectés, enregistrez cette liste dans un fichier utilisateurs.txt. "
   ]
  },
  {
   "cell_type": "code",
   "execution_count": 6,
   "id": "f3d833f3",
   "metadata": {},
   "outputs": [
    {
     "name": "stdout",
     "output_type": "stream",
     "text": [
      "Number of users was registered :  3373\n"
     ]
    },
    {
     "data": {
      "text/plain": [
       "['maddux',\n",
       " 'nose',\n",
       " 'waterline',\n",
       " 'worlock',\n",
       " 'pass',\n",
       " 'disentangle',\n",
       " 'cursory',\n",
       " 'luxurious',\n",
       " 'assurance',\n",
       " 'krause']"
      ]
     },
     "execution_count": 6,
     "metadata": {},
     "output_type": "execute_result"
    }
   ],
   "source": [
    "file1 = \"connexion.log\"\n",
    "users = []\n",
    "\n",
    "with open(file1, \"r\") as logs :\n",
    "    for line in logs:\n",
    "        mocs = line.split(';')\n",
    "        login = mocs[1]\n",
    "        if login not in users :\n",
    "            users.append(login)\n",
    "        \n",
    "ready_file_path = \"utilisateurs.txt\"\n",
    "with open(ready_file_path,'w') as users_file:\n",
    "    for user in users :\n",
    "        users_file.write(f\"{user}\\n\")\n",
    "\n",
    "print(\"Number of users was registered : \",len(users))\n",
    "users[:10] "
   ]
  },
  {
   "cell_type": "markdown",
   "id": "7817a970",
   "metadata": {},
   "source": [
    "#### 2. Les personnes se sont connectées en dehors des heures d'ouverture du bureau"
   ]
  },
  {
   "cell_type": "code",
   "execution_count": 11,
   "id": "3f39bf85",
   "metadata": {},
   "outputs": [
    {
     "data": {
      "text/html": [
       "<div>\n",
       "<style scoped>\n",
       "    .dataframe tbody tr th:only-of-type {\n",
       "        vertical-align: middle;\n",
       "    }\n",
       "\n",
       "    .dataframe tbody tr th {\n",
       "        vertical-align: top;\n",
       "    }\n",
       "\n",
       "    .dataframe thead th {\n",
       "        text-align: right;\n",
       "    }\n",
       "</style>\n",
       "<table border=\"1\" class=\"dataframe\">\n",
       "  <thead>\n",
       "    <tr style=\"text-align: right;\">\n",
       "      <th></th>\n",
       "      <th>IP</th>\n",
       "      <th>Login</th>\n",
       "      <th>Timestamp</th>\n",
       "    </tr>\n",
       "  </thead>\n",
       "  <tbody>\n",
       "    <tr>\n",
       "      <th>0</th>\n",
       "      <td>93.170.131.108</td>\n",
       "      <td>pisistratus</td>\n",
       "      <td>26/04/17 00:37</td>\n",
       "    </tr>\n",
       "    <tr>\n",
       "      <th>1</th>\n",
       "      <td>93.170.131.108</td>\n",
       "      <td>pisistratus</td>\n",
       "      <td>19/09/19 19:32</td>\n",
       "    </tr>\n",
       "    <tr>\n",
       "      <th>2</th>\n",
       "      <td>93.170.131.108</td>\n",
       "      <td>pisistratus</td>\n",
       "      <td>09/02/18 19:41</td>\n",
       "    </tr>\n",
       "    <tr>\n",
       "      <th>3</th>\n",
       "      <td>93.170.131.108</td>\n",
       "      <td>pisistratus</td>\n",
       "      <td>13/11/19 00:24</td>\n",
       "    </tr>\n",
       "    <tr>\n",
       "      <th>4</th>\n",
       "      <td>93.170.131.108</td>\n",
       "      <td>pisistratus</td>\n",
       "      <td>17/04/16 23:51</td>\n",
       "    </tr>\n",
       "    <tr>\n",
       "      <th>5</th>\n",
       "      <td>93.170.131.108</td>\n",
       "      <td>pisistratus</td>\n",
       "      <td>22/04/15 00:29</td>\n",
       "    </tr>\n",
       "    <tr>\n",
       "      <th>6</th>\n",
       "      <td>93.170.131.108</td>\n",
       "      <td>pisistratus</td>\n",
       "      <td>10/08/18 22:03</td>\n",
       "    </tr>\n",
       "    <tr>\n",
       "      <th>7</th>\n",
       "      <td>93.170.131.108</td>\n",
       "      <td>pisistratus</td>\n",
       "      <td>14/05/17 22:24</td>\n",
       "    </tr>\n",
       "    <tr>\n",
       "      <th>8</th>\n",
       "      <td>93.170.131.108</td>\n",
       "      <td>pisistratus</td>\n",
       "      <td>18/01/19 00:10</td>\n",
       "    </tr>\n",
       "    <tr>\n",
       "      <th>9</th>\n",
       "      <td>93.170.131.108</td>\n",
       "      <td>pisistratus</td>\n",
       "      <td>22/11/15 19:17</td>\n",
       "    </tr>\n",
       "  </tbody>\n",
       "</table>\n",
       "</div>"
      ],
      "text/plain": [
       "               IP        Login       Timestamp\n",
       "0  93.170.131.108  pisistratus  26/04/17 00:37\n",
       "1  93.170.131.108  pisistratus  19/09/19 19:32\n",
       "2  93.170.131.108  pisistratus  09/02/18 19:41\n",
       "3  93.170.131.108  pisistratus  13/11/19 00:24\n",
       "4  93.170.131.108  pisistratus  17/04/16 23:51\n",
       "5  93.170.131.108  pisistratus  22/04/15 00:29\n",
       "6  93.170.131.108  pisistratus  10/08/18 22:03\n",
       "7  93.170.131.108  pisistratus  14/05/17 22:24\n",
       "8  93.170.131.108  pisistratus  18/01/19 00:10\n",
       "9  93.170.131.108  pisistratus  22/11/15 19:17"
      ]
     },
     "execution_count": 11,
     "metadata": {},
     "output_type": "execute_result"
    }
   ],
   "source": [
    "import pandas as pd\n",
    "\n",
    "file1 = \"connexion.log\"\n",
    "out_of_working_hours = \"dangerous_connections.txt\"\n",
    "\n",
    "def closed_office_time(time_str):\n",
    "    time_parts = time_str.split(' ')[1]\n",
    "    hour = int(time_parts.split(':')[0])\n",
    "    return hour<8 or hour>=19\n",
    "\n",
    "closed_office_con_data = []\n",
    "\n",
    "with open(file1, \"r\" ) as logs, open(out_of_working_hours, \"w\") as out:\n",
    "    for line in logs:\n",
    "        mocs = line.split(';')\n",
    "        ip = mocs[0]\n",
    "        login = mocs[1]\n",
    "        time_str = mocs[2].strip()\n",
    "        \n",
    "        if closed_office_time(time_str):\n",
    "            out.write(f\"{ip};{login};{time_str}\\n\")\n",
    "            closed_office_con_data.append([ip, login, time_str])\n",
    "                      \n",
    "df = pd.DataFrame(closed_office_con_data, columns=['IP','Login','Timestamp'])\n",
    "\n",
    "df.head(10)\n"
   ]
  },
  {
   "cell_type": "code",
   "execution_count": 13,
   "id": "bf993ec3",
   "metadata": {},
   "outputs": [
    {
     "data": {
      "text/plain": [
       "(50, 3)"
      ]
     },
     "execution_count": 13,
     "metadata": {},
     "output_type": "execute_result"
    }
   ],
   "source": [
    "df.shape"
   ]
  },
  {
   "cell_type": "markdown",
   "id": "42924503",
   "metadata": {},
   "source": [
    "#### 3. on produira un fichier suspect.txt avec une ligne par utilisateur et le nombre de fois qu'il s'est connecté à une ip interdite"
   ]
  },
  {
   "cell_type": "code",
   "execution_count": 17,
   "id": "b36db7ee",
   "metadata": {},
   "outputs": [
    {
     "data": {
      "text/plain": [
       "['92.63.87.106',\n",
       " '92.63.87.134',\n",
       " '92.63.87.48',\n",
       " '92.63.87.53',\n",
       " '93.170.104.127',\n",
       " '93.170.123.119',\n",
       " '93.170.123.185',\n",
       " '93.170.123.60',\n",
       " '93.170.131.108',\n",
       " '93.170.169.52',\n",
       " '94.242.57.45']"
      ]
     },
     "execution_count": 17,
     "metadata": {},
     "output_type": "execute_result"
    }
   ],
   "source": [
    "warning_file = \"warning.txt\"\n",
    "\n",
    "red_ips = []\n",
    "with open(warning_file , 'r') as ips :\n",
    "    for line in ips:\n",
    "        red_ips.append(line.strip())\n",
    "        \n",
    "red_ips"
   ]
  },
  {
   "cell_type": "code",
   "execution_count": 20,
   "id": "d3753488",
   "metadata": {},
   "outputs": [],
   "source": [
    "suspect_file = \"suspect_file.txt\"\n",
    "\n",
    "user_ip_count = {}\n",
    "for entry in closed_office_con_data:\n",
    "    ip, login, time_str = entry\n",
    "    if ip in red_ips:\n",
    "        if login not in user_ip_count:\n",
    "            user_ip_count[login] = 0\n",
    "        user_ip_count[login] += 1\n",
    "\n",
    "with open(suspect_file, 'w') as suspect_out:\n",
    "    for user, count in user_ip_count.items():\n",
    "        suspect_out.write(f\"{user} {count}\\n\")"
   ]
  },
  {
   "cell_type": "markdown",
   "id": "f713f093",
   "metadata": {},
   "source": [
    "#### Version optimisée"
   ]
  },
  {
   "cell_type": "code",
   "execution_count": null,
   "id": "11d9a83d",
   "metadata": {},
   "outputs": [],
   "source": [
    "file1 = \"connexion.log\"\n",
    "ready_file_path = \"utilisateurs.txt\"\n",
    "out_of_working_hours = \"dangerous_connections.txt\"\n",
    "warning_file = \"warning.txt\"\n",
    "suspect_file = \"suspect_file.txt\"\n",
    "\n",
    "users = []\n",
    "with open(file1, \"r\") as logs :\n",
    "    for line in logs:\n",
    "        mocs = line.split(';')\n",
    "        login = mocs[1]\n",
    "        if login not in users :\n",
    "            users.append(login)\n",
    "            \n",
    "with open(ready_file_path,'w') as users_file:\n",
    "    for user in users :\n",
    "        users_file.write(f\"{user}\\n\")\n",
    "\n",
    "def closed_office_time(time_str):\n",
    "    time_parts = time_str.split(' ')[1]\n",
    "    hour = int(time_parts.split(':')[0])\n",
    "    return hour<8 or hour>=19\n",
    "\n",
    "closed_office_con_data = []\n",
    "with open(file1, \"r\" ) as logs, open(out_of_working_hours, \"w\") as out:\n",
    "    for line in logs:\n",
    "        mocs = line.split(';')\n",
    "        ip = mocs[0]\n",
    "        login = mocs[1]\n",
    "        time_str = mocs[2].strip()\n",
    "        \n",
    "        if closed_office_time(time_str):\n",
    "            out.write(f\"{ip};{login};{time_str}\\n\")\n",
    "            closed_office_con_data.append([ip, login, time_str])\n",
    "            \n",
    "red_ips = []\n",
    "with open(warning_file , 'r') as ips :\n",
    "    for line in ips:\n",
    "        red_ips.append(line.strip())       \n",
    "        \n",
    "user_ip_count = {}\n",
    "for entry in closed_office_con_data:\n",
    "    ip, login, time_str = entry\n",
    "    if ip in red_ips:\n",
    "        if login not in user_ip_count:\n",
    "            user_ip_count[login] = 0\n",
    "        user_ip_count[login] += 1\n",
    "\n",
    "with open(suspect_file, 'w') as suspect_out:\n",
    "    for user, count in user_ip_count.items():\n",
    "        suspect_out.write(f\"{user} {count}\\n\")\n"
   ]
  }
 ],
 "metadata": {
  "kernelspec": {
   "display_name": "Python 3 (ipykernel)",
   "language": "python",
   "name": "python3"
  },
  "language_info": {
   "codemirror_mode": {
    "name": "ipython",
    "version": 3
   },
   "file_extension": ".py",
   "mimetype": "text/x-python",
   "name": "python",
   "nbconvert_exporter": "python",
   "pygments_lexer": "ipython3",
   "version": "3.11.5"
  }
 },
 "nbformat": 4,
 "nbformat_minor": 5
}
